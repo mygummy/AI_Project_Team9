{
 "cells": [
  {
   "cell_type": "code",
   "execution_count": 1,
   "metadata": {
    "id": "j3Yu7bKISyMb"
   },
   "outputs": [],
   "source": [
    "import pandas as pd\n",
    "import ast  # 문자열을 리스트로 변환하기 위한 모듈"
   ]
  },
  {
   "cell_type": "code",
   "execution_count": 2,
   "metadata": {},
   "outputs": [],
   "source": [
    "# CSV 파일 불러오기\n",
    "df = pd.read_csv('labeled_food_ingredients.csv')\n",
    "\n",
    "# ingredients 열을 파이썬 리스트로 변환\n",
    "df['ingredients'] = df['ingredients'].apply(ast.literal_eval)"
   ]
  },
  {
   "cell_type": "code",
   "execution_count": 3,
   "metadata": {},
   "outputs": [],
   "source": [
    "from collections import Counter\n",
    "\n",
    "# 모든 재료들을 하나의 리스트로 결합\n",
    "all_ingredients = sum(df['ingredients'].tolist(), [])\n",
    "\n",
    "# 재료들의 빈도수 계산\n",
    "ingredient_counts = Counter(all_ingredients)"
   ]
  },
  {
   "cell_type": "code",
   "execution_count": 4,
   "metadata": {},
   "outputs": [
    {
     "name": "stdout",
     "output_type": "stream",
     "text": [
      "egg: 9111\n",
      "chicken: 4359\n",
      "green_onion: 3971\n",
      "clear_soup: 5759\n",
      "rice(steamed_or_fried): 7573\n",
      "other_green_leaf_vegetable: 15187\n",
      "shellfish: 467\n",
      "squid_octopus: 577\n",
      "other_nuts: 980\n",
      "other_mushroom: 1274\n",
      "enoki_mushroom: 709\n",
      "garlic: 965\n",
      "pepper: 3458\n",
      "rice_products: 773\n",
      "potato: 4250\n",
      "onion: 2541\n",
      "king_oyster_mushroom: 822\n",
      "carrot: 3080\n",
      "other_sauce_and_spices: 25114\n",
      "wheat_noodle: 3837\n",
      "shiitake_mushroom: 863\n",
      "glass_noodles: 1269\n",
      "other_fish: 2168\n",
      "sugarcane: 5\n",
      "shrimp: 3991\n",
      "red_soup: 2365\n",
      "cream: 6406\n",
      "corn_kernel: 2627\n",
      "beef: 7411\n",
      "bean_sprouts: 755\n",
      "rice_cake: 1418\n",
      "bread: 20377\n",
      "parsley: 4053\n",
      "cheese: 10928\n",
      "pork: 8529\n",
      "cilantro: 3065\n",
      "mixed_meat: 1041\n",
      "processed meat: 6051\n",
      "lettuce: 687\n",
      "ketchup: 878\n",
      "seaweed: 4606\n",
      "tofu: 2125\n",
      "cucumber: 493\n",
      "pimento: 655\n",
      "olive: 989\n",
      "mayonnaise: 1446\n",
      "wheat_products: 21033\n",
      "tomato: 1102\n",
      "crab: 1413\n",
      "cream_sauce: 2003\n",
      "radish: 600\n",
      "cabbage: 904\n",
      "fish_cake: 1215\n",
      "mustard: 648\n",
      "tomato_sauce: 1686\n",
      "pineapple: 364\n",
      "apple: 358\n",
      "orange: 186\n",
      "rice_noodle: 2484\n",
      "duck: 53\n",
      "white_mushroom: 968\n",
      "chocolate: 5474\n",
      "banana: 954\n",
      "peanut: 1512\n",
      "napa_cabbage: 1143\n",
      "eggplant: 1304\n",
      "corn_products: 1081\n",
      "wasabi: 779\n",
      "lamb: 83\n",
      "butter: 1142\n",
      "pumpkin: 73\n",
      "salmon: 739\n",
      "salt_sugar: 606\n",
      "celery: 22\n",
      "lobster: 1084\n",
      "asparagus: 277\n",
      "zucchini: 417\n",
      "oil: 1018\n",
      "mackerel: 123\n",
      "spinach: 137\n",
      "pear: 63\n",
      "buckwheat: 50\n",
      "anchovy: 25\n",
      "walnut: 51\n",
      "oats: 124\n",
      "sweet_potato: 214\n",
      "ice_cream: 2204\n",
      "strawberry: 2546\n",
      "mango: 309\n",
      "melon: 57\n",
      "cherry: 369\n",
      "syrup: 2450\n",
      "berry: 1350\n",
      "milk: 19\n",
      "mandarin: 105\n",
      "yogurt: 86\n",
      "peach: 143\n",
      "grape: 138\n",
      "pecan: 16\n",
      "jalapeno_pepper: 116\n",
      "pasta_noodle: 1771\n",
      "broccoli: 307\n",
      "coffee: 2005\n",
      "ice: 1003\n",
      "plum: 41\n",
      "snail: 1012\n",
      "bok_choy: 1\n",
      "pudding: 1007\n",
      "other_sauce_and_spices_poured_into_food: 2\n",
      "milk_into_food: 598\n",
      "milk_set_aside: 17\n"
     ]
    }
   ],
   "source": [
    "# 결과 출력\n",
    "for ingredient, count in ingredient_counts.items():\n",
    "    print(f\"{ingredient}: {count}\")"
   ]
  },
  {
   "cell_type": "code",
   "execution_count": null,
   "metadata": {},
   "outputs": [],
   "source": []
  }
 ],
 "metadata": {
  "colab": {
   "provenance": []
  },
  "kernelspec": {
   "display_name": "Python 3 (ipykernel)",
   "language": "python",
   "name": "python3"
  },
  "language_info": {
   "codemirror_mode": {
    "name": "ipython",
    "version": 3
   },
   "file_extension": ".py",
   "mimetype": "text/x-python",
   "name": "python",
   "nbconvert_exporter": "python",
   "pygments_lexer": "ipython3",
   "version": "3.9.12"
  }
 },
 "nbformat": 4,
 "nbformat_minor": 1
}
